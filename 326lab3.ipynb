{
 "cells": [
  {
   "cell_type": "code",
   "execution_count": 1,
   "metadata": {},
   "outputs": [],
   "source": [
    "import sys\n",
    "sys.path.append(\"/miniconda3/lib/python3.7/site-packages\")"
   ]
  },
  {
   "cell_type": "code",
   "execution_count": 33,
   "metadata": {},
   "outputs": [],
   "source": [
    "import matplotlib.pyplot as plt\n",
    "import numpy as np\n",
    "from astropy.io import fits\n",
    "import urllib as url\n",
    "import os"
   ]
  },
  {
   "cell_type": "code",
   "execution_count": 3,
   "metadata": {},
   "outputs": [],
   "source": [
    "flora11 = fits.open(\"calibrated-T21-nasuyu-Flora-20201128-220145-V-BIN1-W-180-001.fit\")\n",
    "flora12 = fits.open(\"calibrated-T21-nasuyu-Flora-20201128-220535-V-BIN1-W-180-002.fit\")\n",
    "flora13 = fits.open(\"calibrated-T21-nasuyu-Flora-20201128-220910-V-BIN1-W-180-003.fit\")\n",
    "flora21 = fits.open(\"calibrated-T21-nasuyu-Flora-20201204-220247-V-BIN1-W-180-001.fit\")\n",
    "flora22 = fits.open(\"calibrated-T21-nasuyu-Flora-20201204-220639-V-BIN1-W-180-002.fit\")\n",
    "flora31 = fits.open(\"calibrated-T21-nasuyu-Flora-20201209-220706-V-BIN1-W-180-001.fit\")\n",
    "flora32 = fits.open(\"calibrated-T21-nasuyu-Flora-20201209-221107-V-BIN1-W-180-002.fit\")\n",
    "m33 = fits.open(\"calibrated-T21-nasuyu-M33-20201128-214738-Luminance-BIN1-W-300-001.fit\")"
   ]
  },
  {
   "cell_type": "code",
   "execution_count": 4,
   "metadata": {},
   "outputs": [],
   "source": [
    "f11data = flora11[0].data #ra=02 19 17.00 dec=03 25 04.0 deg=34.821,3.084\n",
    "f12data = flora12[0].data\n",
    "f13data = flora13[0].data\n",
    "f21data = flora21[0].data #ra=02 17 11.00 dec=03 53 35.0 deg=34.296,3.051\n",
    "f22data = flora22[0].data\n",
    "f31data = flora31[0].data #ra=02 16 26.00 dec=04 23 16.0 deg=34.108,4.052\n",
    "f32data = flora32[0].data\n",
    "m33data = m33[0].data"
   ]
  },
  {
   "cell_type": "code",
   "execution_count": 317,
   "metadata": {},
   "outputs": [],
   "source": [
    "FOV=49.2\n",
    "f=1940\n",
    "p=.009"
   ]
  },
  {
   "cell_type": "code",
   "execution_count": 157,
   "metadata": {},
   "outputs": [
    {
     "data": {
      "text/plain": [
       "(2048, 3072)"
      ]
     },
     "execution_count": 157,
     "metadata": {},
     "output_type": "execute_result"
    }
   ],
   "source": [
    "np.shape(f11data)"
   ]
  },
  {
   "cell_type": "code",
   "execution_count": null,
   "metadata": {},
   "outputs": [],
   "source": [
    "def get_star_list(img, threshold):\n",
    "    \"\"\"Return a list of the approximate positions of stars in img that exceed threshold brightness.\n",
    "    \"\"\"\n",
    "    STAR_SIZE=10\n",
    "    star_list = []\n",
    "\n",
    "    # Look through entire image except within STAR_SIZE of the edges\n",
    "    for i in range(STAR_SIZE, len(img) - STAR_SIZE):\n",
    "        for j in range(STAR_SIZE, len(img[0]) - STAR_SIZE):\n",
    "        \n",
    "            if img[i][j] > threshold:\n",
    "            \n",
    "                # Potential star candidate!\n",
    "                new_star = True\n",
    "                \n",
    "                # First test: check one pixel above, below, left, and right to confirm \n",
    "                # that this is reasonably a star and not a single bright pixel\n",
    "                for n in range(-1, 2):\n",
    "                    for m in range(-1, 2):\n",
    "                        if not img[i + n][j + m] > threshold:\n",
    "                            new_star = False\n",
    "                \n",
    "                # Only proceed if still a star candidate\n",
    "                if new_star:\n",
    "                    \n",
    "                    # Determine if this star is already listed\n",
    "                    for n in range(-STAR_SIZE, STAR_SIZE + 1):\n",
    "                        for m in range(-STAR_SIZE, STAR_SIZE + 1):\n",
    "                            if [i + n, j + m] in star_list:\n",
    "                                new_star = False\n",
    "                \n",
    "                    # Only add this position if the star is not already listed\n",
    "                    if new_star:\n",
    "                        star_list.append([i, j])\n",
    "    \n",
    "    return star_list"
   ]
  },
  {
   "cell_type": "code",
   "execution_count": 318,
   "metadata": {},
   "outputs": [],
   "source": [
    "f11u=search_usno(f11rd_deg[0],f11rd_deg[1],FOV)"
   ]
  },
  {
   "cell_type": "code",
   "execution_count": 321,
   "metadata": {},
   "outputs": [],
   "source": [
    "f11u14=[]\n",
    "for i in range(0,len(f11u[0])):\n",
    "    if f11u[3][i]<14:\n",
    "        f11u14.append([f11u[0][i],f11u[1][i]])"
   ]
  },
  {
   "cell_type": "code",
   "execution_count": 324,
   "metadata": {},
   "outputs": [],
   "source": [
    "f11u14n = np.asarray(f11u14)"
   ]
  },
  {
   "cell_type": "code",
   "execution_count": 165,
   "metadata": {},
   "outputs": [],
   "source": [
    "def get_XY(alpha, delta, alpha0, delta0):\n",
    "\n",
    "    #Convert all degree quantities to radians\n",
    "    alpha = np.deg2rad(alpha)\n",
    "    delta = np.deg2rad(delta)\n",
    "    alpha0 = np.deg2rad(alpha0)\n",
    "    delta0 = np.deg2rad(delta0)\n",
    "    \n",
    "    #Compute the projection relative to the center of the field\n",
    "    X = np.cos(delta)*np.sin(alpha - alpha0)\n",
    "    Y = np.sin(delta0)*np.cos(delta)*np.cos(alpha - alpha0) - np.cos(delta0)*np.sin(delta)\n",
    "    norm = np.cos(delta0)*np.cos(delta)*np.cos(alpha - alpha0)+np.sin(delta0)*np.sin(delta)\n",
    "    \n",
    "    return X/norm, -1*Y/norm"
   ]
  },
  {
   "cell_type": "code",
   "execution_count": 237,
   "metadata": {},
   "outputs": [],
   "source": [
    "#def approximate_transform(reference_stars, center_of_field, rotation_angle):\n",
    "\n",
    "    image_shape=[2048, 3072]\n",
    "    focal_length = 1940\n",
    "    pixel_size = .009\n",
    "    \n",
    "    #Intialize an array to hold to transformed co-ordinates\n",
    "    transform_reference_stars = np.empty_like(reference_stars)\n",
    "\n",
    "    #Convert data products to the required format for computation\n",
    "    alpha0, delta0 = convert2deg(*center_of_field)\n",
    "    rotation_angle = np.deg2rad(rotation_angle)\n",
    "    \n",
    "    #For each star\n",
    "    for i in range(np.shape(reference_stars)[0]):\n",
    "\n",
    "        #Extract parameters\n",
    "        #star = reference_stars[i,:]\n",
    "        alpha, delta = reference_stars[i][0], reference_stars[i][1]\n",
    "\n",
    "        #Project onto a plane\n",
    "        X, Y = get_XY(alpha, delta, alpha0, delta0)\n",
    "\n",
    "        #Convert to approximate CCD pixel co-ordinates\n",
    "        x = focal_length*(X/pixel_size) \n",
    "        y = focal_length*(Y/pixel_size) \n",
    "\n",
    "        #Apply a standard rotation\n",
    "        x_rot = x*np.cos(rotation_angle) - y*np.sin(rotation_angle)\n",
    "        y_rot = x*np.sin(rotation_angle) + y*np.cos(rotation_angle)\n",
    "\n",
    "        #Center values on the CCD and add to the array of transformed co-ordinates\n",
    "        transform_reference_stars[i,0] = x_rot + image_shape[1]/2.0 \n",
    "        transform_reference_stars[i,1] = y_rot + image_shape[0]/2.0\n",
    "        \n",
    "    return transform_reference_stars\n"
   ]
  },
  {
   "cell_type": "code",
   "execution_count": 322,
   "metadata": {},
   "outputs": [],
   "source": [
    "def approximate_transform(reference_stars, center_of_field, rotation_angle):\n",
    "\n",
    "    image_shape=[2048, 3072]\n",
    "    focal_length = 1940\n",
    "    pixel_size = .009\n",
    "    \n",
    "    #Intialize an array to hold to transformed co-ordinates\n",
    "    transform_reference_stars = np.empty_like(reference_stars)\n",
    "\n",
    "    #Convert data products to the required format for computation\n",
    "    alpha0, delta0 = convert2deg(*center_of_field)\n",
    "    rotation_angle = np.deg2rad(rotation_angle)\n",
    "    \n",
    "    #For each star\n",
    "    for i in range(reference_stars.shape[0]):\n",
    "\n",
    "        #Extract parameters\n",
    "        star = reference_stars[i,:]\n",
    "        alpha, delta = star[0], star[1]\n",
    "\n",
    "        #Project onto a plane\n",
    "        X, Y = get_XY(alpha, delta, alpha0, delta0)\n",
    "\n",
    "        #Convert to approximate CCD pixel co-ordinates\n",
    "        x = focal_length*(X/pixel_size) \n",
    "        y = focal_length*(Y/pixel_size) \n",
    "\n",
    "        #Apply a standard rotation\n",
    "        x_rot = x*np.cos(rotation_angle) - y*np.sin(rotation_angle)\n",
    "        y_rot = x*np.sin(rotation_angle) + y*np.cos(rotation_angle)\n",
    "\n",
    "        #Center values on the CCD and add to the array of transformed co-ordinates\n",
    "        transform_reference_stars[i,0] = x_rot + image_shape[1]/2.0 \n",
    "        transform_reference_stars[i,1] = y_rot + image_shape[0]/2.0\n",
    "        \n",
    "    return transform_reference_stars\n"
   ]
  },
  {
   "cell_type": "code",
   "execution_count": 325,
   "metadata": {},
   "outputs": [
    {
     "ename": "TypeError",
     "evalue": "ufunc 'deg2rad' not supported for the input types, and the inputs could not be safely coerced to any supported types according to the casting rule ''safe''",
     "output_type": "error",
     "traceback": [
      "\u001b[0;31m---------------------------------------------------------------------------\u001b[0m",
      "\u001b[0;31mTypeError\u001b[0m                                 Traceback (most recent call last)",
      "\u001b[0;32m<ipython-input-325-9ec482961140>\u001b[0m in \u001b[0;36m<module>\u001b[0;34m\u001b[0m\n\u001b[0;32m----> 1\u001b[0;31m \u001b[0matf11u14\u001b[0m\u001b[0;34m=\u001b[0m\u001b[0;34m(\u001b[0m\u001b[0mapproximate_transform\u001b[0m\u001b[0;34m(\u001b[0m\u001b[0mf11u14n\u001b[0m\u001b[0;34m,\u001b[0m\u001b[0;34m(\u001b[0m\u001b[0mflora11\u001b[0m\u001b[0;34m[\u001b[0m\u001b[0;36m0\u001b[0m\u001b[0;34m]\u001b[0m\u001b[0;34m.\u001b[0m\u001b[0mheader\u001b[0m\u001b[0;34m[\u001b[0m\u001b[0;34m'RA'\u001b[0m\u001b[0;34m]\u001b[0m\u001b[0;34m,\u001b[0m\u001b[0mflora11\u001b[0m\u001b[0;34m[\u001b[0m\u001b[0;36m0\u001b[0m\u001b[0;34m]\u001b[0m\u001b[0;34m.\u001b[0m\u001b[0mheader\u001b[0m\u001b[0;34m[\u001b[0m\u001b[0;34m'DEC'\u001b[0m\u001b[0;34m]\u001b[0m\u001b[0;34m)\u001b[0m\u001b[0;34m,\u001b[0m\u001b[0;36m359\u001b[0m\u001b[0;34m)\u001b[0m\u001b[0;34m)\u001b[0m\u001b[0;34m\u001b[0m\u001b[0m\n\u001b[0m",
      "\u001b[0;32m<ipython-input-322-ae3c18db6648>\u001b[0m in \u001b[0;36mapproximate_transform\u001b[0;34m(reference_stars, center_of_field, rotation_angle)\u001b[0m\n\u001b[1;32m     20\u001b[0m \u001b[0;34m\u001b[0m\u001b[0m\n\u001b[1;32m     21\u001b[0m         \u001b[0;31m#Project onto a plane\u001b[0m\u001b[0;34m\u001b[0m\u001b[0;34m\u001b[0m\u001b[0m\n\u001b[0;32m---> 22\u001b[0;31m         \u001b[0mX\u001b[0m\u001b[0;34m,\u001b[0m \u001b[0mY\u001b[0m \u001b[0;34m=\u001b[0m \u001b[0mget_XY\u001b[0m\u001b[0;34m(\u001b[0m\u001b[0malpha\u001b[0m\u001b[0;34m,\u001b[0m \u001b[0mdelta\u001b[0m\u001b[0;34m,\u001b[0m \u001b[0malpha0\u001b[0m\u001b[0;34m,\u001b[0m \u001b[0mdelta0\u001b[0m\u001b[0;34m)\u001b[0m\u001b[0;34m\u001b[0m\u001b[0m\n\u001b[0m\u001b[1;32m     23\u001b[0m \u001b[0;34m\u001b[0m\u001b[0m\n\u001b[1;32m     24\u001b[0m         \u001b[0;31m#Convert to approximate CCD pixel co-ordinates\u001b[0m\u001b[0;34m\u001b[0m\u001b[0;34m\u001b[0m\u001b[0m\n",
      "\u001b[0;32m<ipython-input-165-1eb99860109c>\u001b[0m in \u001b[0;36mget_XY\u001b[0;34m(alpha, delta, alpha0, delta0)\u001b[0m\n\u001b[1;32m      2\u001b[0m \u001b[0;34m\u001b[0m\u001b[0m\n\u001b[1;32m      3\u001b[0m     \u001b[0;31m#Convert all degree quantities to radians\u001b[0m\u001b[0;34m\u001b[0m\u001b[0;34m\u001b[0m\u001b[0m\n\u001b[0;32m----> 4\u001b[0;31m     \u001b[0malpha\u001b[0m \u001b[0;34m=\u001b[0m \u001b[0mnp\u001b[0m\u001b[0;34m.\u001b[0m\u001b[0mdeg2rad\u001b[0m\u001b[0;34m(\u001b[0m\u001b[0malpha\u001b[0m\u001b[0;34m)\u001b[0m\u001b[0;34m\u001b[0m\u001b[0m\n\u001b[0m\u001b[1;32m      5\u001b[0m     \u001b[0mdelta\u001b[0m \u001b[0;34m=\u001b[0m \u001b[0mnp\u001b[0m\u001b[0;34m.\u001b[0m\u001b[0mdeg2rad\u001b[0m\u001b[0;34m(\u001b[0m\u001b[0mdelta\u001b[0m\u001b[0;34m)\u001b[0m\u001b[0;34m\u001b[0m\u001b[0m\n\u001b[1;32m      6\u001b[0m     \u001b[0malpha0\u001b[0m \u001b[0;34m=\u001b[0m \u001b[0mnp\u001b[0m\u001b[0;34m.\u001b[0m\u001b[0mdeg2rad\u001b[0m\u001b[0;34m(\u001b[0m\u001b[0malpha0\u001b[0m\u001b[0;34m)\u001b[0m\u001b[0;34m\u001b[0m\u001b[0m\n",
      "\u001b[0;31mTypeError\u001b[0m: ufunc 'deg2rad' not supported for the input types, and the inputs could not be safely coerced to any supported types according to the casting rule ''safe''"
     ]
    }
   ],
   "source": [
    "atf11u14=(approximate_transform(f11u14n,(flora11[0].header['RA'],flora11[0].header['DEC']),359))"
   ]
  },
  {
   "cell_type": "code",
   "execution_count": 278,
   "metadata": {},
   "outputs": [],
   "source": [
    "x=[]\n",
    "y=[]\n",
    "X=[]\n",
    "Y=[]\n",
    "for i in f11list:\n",
    "    X.append(i[0])\n",
    "    Y.append(i[1])\n",
    "for i in f11cen:\n",
    "    x.append(i[0])\n",
    "    y.append(i[1])"
   ]
  },
  {
   "cell_type": "code",
   "execution_count": 279,
   "metadata": {},
   "outputs": [],
   "source": [
    "def "
   ]
  },
  {
   "cell_type": "code",
   "execution_count": 310,
   "metadata": {},
   "outputs": [],
   "source": [
    "x11=[]\n",
    "y11=[]\n",
    "for i in atf21:\n",
    "    x11.append(i[0])\n",
    "    y11.append(i[1])"
   ]
  },
  {
   "cell_type": "code",
   "execution_count": 311,
   "metadata": {},
   "outputs": [
    {
     "data": {
      "image/png": "[encoded data removed]",
      "text/plain": [
       "<Figure size 432x288 with 2 Axes>"
      ]
     },
     "metadata": {
      "needs_background": "light"
     },
     "output_type": "display_data"
    }
   ],
   "source": [
    "plot(f21data)\n",
    "plt.plot(x11,y11,'o',alpha=.3) #usno transform\n",
    "#plt.plot(y,x,'o',alpha=.3,c='yellow') #finder function\n",
    "plt.show()"
   ]
  },
  {
   "cell_type": "code",
   "execution_count": 303,
   "metadata": {},
   "outputs": [
    {
     "ename": "AttributeError",
     "evalue": "'tuple' object has no attribute 'shape'",
     "output_type": "error",
     "traceback": [
      "\u001b[0;31m---------------------------------------------------------------------------\u001b[0m",
      "\u001b[0;31mAttributeError\u001b[0m                            Traceback (most recent call last)",
      "\u001b[0;32m<ipython-input-303-a2fa8d666caf>\u001b[0m in \u001b[0;36m<module>\u001b[0;34m\u001b[0m\n\u001b[0;32m----> 1\u001b[0;31m \u001b[0mf11usno\u001b[0m\u001b[0;34m.\u001b[0m\u001b[0mshape\u001b[0m\u001b[0;34m\u001b[0m\u001b[0m\n\u001b[0m",
      "\u001b[0;31mAttributeError\u001b[0m: 'tuple' object has no attribute 'shape'"
     ]
    }
   ],
   "source": [
    "f11usno.shape"
   ]
  },
  {
   "cell_type": "code",
   "execution_count": 181,
   "metadata": {},
   "outputs": [],
   "source": [
    "n=np.array([],[])"
   ]
  },
  {
   "cell_type": "code",
   "execution_count": null,
   "metadata": {},
   "outputs": [],
   "source": [
    "# Helper function\n",
    "\n",
    "def is_new_star(star_yx: List[int], star_list: List[List[int]]) -> bool:\n",
    "    \"\"\"Return True if and only if yx-coordinates in the neighbourhood of star_yx are not listed in star_list.\n",
    "    The neighbourhood of star is a pair of coordinates within STAR_SIZE of star_yx.\n",
    "    \"\"\"\n",
    "    \n",
    "    for n in range(-STAR_SIZE, STAR_SIZE + 1):\n",
    "        for m in range(-STAR_SIZE, STAR_SIZE + 1):\n",
    "            \n",
    "            if [star_yx[0] + n, star_yx[1] + m] in star_list:\n",
    "                return False\n",
    "    \n",
    "    return True"
   ]
  },
  {
   "cell_type": "code",
   "execution_count": null,
   "metadata": {},
   "outputs": [],
   "source": [
    "def get_star_list(img: np.array, threshold: int) -> List[List[int]]:\n",
    "    \"\"\"Return a list of the approximate yx-positions of stars in img that exceed threshold brightness.\n",
    "    \"\"\"\n",
    "\n",
    "    star_list = []\n",
    "\n",
    "    # Look through entire image except within STAR_SIZE of the edges\n",
    "    for i in range(STAR_SIZE, len(img) - STAR_SIZE):\n",
    "        for j in range(STAR_SIZE, len(img[0]) - STAR_SIZE):\n",
    "        \n",
    "            if img[i][j] > threshold:\n",
    "            \n",
    "                # Potential star candidate!\n",
    "                star = True\n",
    "                \n",
    "                # First test: Check one pixel above, below, left, and right to confirm \n",
    "                # that this is reasonably a star and not a single bright pixel\n",
    "                for n in range(-1, 2):\n",
    "                    for m in range(-1, 2):\n",
    "                        \n",
    "                        if not img[i + n][j + m] > threshold:\n",
    "                            star = False\n",
    "                \n",
    "                # Only proceed if still a star candidate\n",
    "                if star:\n",
    "                    \n",
    "                    # Second test: Check if this star is already listed\n",
    "                    # and only add its position if it isn't\n",
    "                    if is_new_star([i, j], star_list):\n",
    "                        star_list.append([i, j])\n",
    "                        \n",
    "    return star_list"
   ]
  },
  {
   "cell_type": "code",
   "execution_count": null,
   "metadata": {},
   "outputs": [],
   "source": [
    "def centroid_stars(star_list: List[List[int]], img: np.array) -> Tuple[np.array]:\n",
    "    \"\"\"Return three parallel one-dimensional arrays. The first is an array of the x-coordinates of the centroids \n",
    "    of the stars in img listed in star_list. The second is the y-coordinates of the centroids of these stars. \n",
    "    The third is the total brightness of these stars.\n",
    "    \"\"\"\n",
    "\n",
    "    brightness_list = []\n",
    "    x_brightness_list = []\n",
    "    y_brightness_list = []\n",
    "\n",
    "    for star_yx in star_list: \n",
    "    \n",
    "        brightness = 0\n",
    "        x_brightness = 0\n",
    "        y_brightness = 0\n",
    "    \n",
    "        # For each approximate star position, evaluate pixels in a square around this position\n",
    "        for i in range(star_yx[0] - STAR_SIZE, star_yx[0] + STAR_SIZE + 1):\n",
    "            for j in range(star_yx[1] - STAR_SIZE, star_yx[1] + STAR_SIZE + 1):\n",
    "                            \n",
    "                brightness += img[i][j]\n",
    "                x_brightness += j * img[i][j]\n",
    "                y_brightness += i * img[i][j]\n",
    "    \n",
    "        brightness_list.append(brightness)\n",
    "        x_brightness_list.append(x_brightness)\n",
    "        y_brightness_list.append(y_brightness)\n",
    "\n",
    "    brightness_array = np.array(brightness_list)\n",
    "    x_brightness_array = np.array(x_brightness_list)\n",
    "    y_brightness_array = np.array(y_brightness_list)\n",
    "\n",
    "    x_centroid_array = x_brightness_array / brightness_array\n",
    "    y_centroid_array = y_brightness_array / brightness_array\n",
    "\n",
    "    return (x_centroid_array, y_centroid_array, brightness_array)"
   ]
  }
 ],
 "metadata": {
  "kernelspec": {
   "display_name": "Python 3",
   "language": "python",
   "name": "python3"
  },
  "language_info": {
   "codemirror_mode": {
    "name": "ipython",
    "version": 3
   },
   "file_extension": ".py",
   "mimetype": "text/x-python",
   "name": "python",
   "nbconvert_exporter": "python",
   "pygments_lexer": "ipython3",
   "version": "3.7.0"
  }
 },
 "nbformat": 4,
 "nbformat_minor": 2
}
